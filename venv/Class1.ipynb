{
 "cells": [
  {
   "cell_type": "markdown",
   "id": "fdd46c29",
   "metadata": {},
   "source": []
  },
  {
   "cell_type": "code",
   "execution_count": 68,
   "id": "a6ef55d3",
   "metadata": {},
   "outputs": [
    {
     "data": {
      "text/plain": [
       "True"
      ]
     },
     "execution_count": 68,
     "metadata": {},
     "output_type": "execute_result"
    }
   ],
   "source": [
    "def is_anagram1(string_a, string_b):\n",
    "    a =  \"\".join(string_a.split())\n",
    "    b =  \"\".join(string_b.split())\n",
    "    \n",
    "    if len(a) != len(b):\n",
    "        return False\n",
    "    else:\n",
    "        new_a=a.lower()\n",
    "        new_b=b.lower()\n",
    "    char_time_a = dict()\n",
    "    char_time_b = dict()\n",
    "    for i in range(len(new_a)):\n",
    "        if new_a[i] not in char_time_a.keys():\n",
    "            char_time_a[new_a[i]]=1\n",
    "        else:\n",
    "            char_time_a[new_a[i]]+=1\n",
    "        if new_b[i] not in char_time_b.keys():\n",
    "            char_time_b[new_b[i]]=1\n",
    "        else:\n",
    "            char_time_b[new_b[i]]+=1\n",
    "    \n",
    "    return char_time_a == char_time_b\n",
    "    \n",
    "    \n",
    "\n",
    "is_anagram1(\"I am lord Voldemort\", \"Tom Marvolo Riddle\")\n",
    "    \n",
    "\n",
    "is_anagram1(\"I am lord Voldemort\", \"Tom Marvolo Riddle\")"
   ]
  },
  {
   "cell_type": "code",
   "execution_count": 38,
   "id": "d147f3b4",
   "metadata": {},
   "outputs": [
    {
     "data": {
      "text/plain": [
       "'halb'"
      ]
     },
     "execution_count": 38,
     "metadata": {},
     "output_type": "execute_result"
    }
   ],
   "source": [
    "\n",
    "class Stack():    \n",
    "\n",
    "    def __init__(self):\n",
    "        self.items = []\n",
    "        \n",
    "    def push(self, item):\n",
    "        return self.items.append(item)\n",
    "\n",
    "    def is_empty(self):\n",
    "        return self.items == []\n",
    "\n",
    "    def pop(self):\n",
    "        return self.items.pop()\n",
    "\n",
    "    def peek(self):\n",
    "        return self.items[len(self.items)-1]\n",
    "\n",
    "    def size(self):\n",
    "        return len(self.item)\n",
    "      \n",
    "\n",
    "def string_reversal(string):\n",
    "    stack = Stack()\n",
    "    for letter in string:\n",
    "        stack.push(letter)\n",
    "    output = \"\"\n",
    "    while stack.is_empty() == False:\n",
    "        output += stack.pop()\n",
    "    return output\n",
    "\n",
    "string_reversal(\"blah\")"
   ]
  },
  {
   "cell_type": "code",
   "execution_count": null,
   "id": "c9736809",
   "metadata": {},
   "outputs": [],
   "source": [
    "def is_palindrome(string):\n",
    "    "
   ]
  },
  {
   "cell_type": "markdown",
   "id": "9adcea7b",
   "metadata": {},
   "source": [
    "# Problem 1\n",
    "## Anagram check.\n",
    "\n",
    "### Check if two strings are anagrams of each other consider the following:\n",
    "\n",
    "#### Given two strings (string_1 and string_b) we must first validate that these are of equal length and that they use the same characters in the exact same amount of times. \n",
    "\n",
    "#### For example: cars and scar are anagrams but cars and scaar are not; Similarly, scar and sccr are not anagrams of each other."
   ]
  },
  {
   "cell_type": "code",
   "execution_count": 5,
   "id": "0948d11d",
   "metadata": {},
   "outputs": [],
   "source": [
    "# # pseudocode\n",
    "# def is_anagram(string_a, string_b):\n",
    "#     def string_a_jumbled=string_a.lower()\n",
    "#     def string_b_jumbled=string_b.lower()\n",
    "#     if len(string_a) != len(string_b):\n",
    "#         return False\n",
    "#     char_time_a = dict()\n",
    "#     char_time_b = dict()\n",
    "#     for i in range(len(string_a)):\n",
    "#         if string_a[i] not in char_time_a.keys():\n",
    "#             char_time_a[string_a[i]]=1\n",
    "#         else:\n",
    "#             char_time_a[string_a[i]]+=1\n",
    "#         if string_b[i] not in char_time_b.keys():\n",
    "#             char_time_b[string_b[i]]=1\n",
    "#         else:\n",
    "#             char_time_b[string_b[i]]+=1\n",
    "#     return char_time_a==char_time_b\n",
    "\n",
    "# is_anagram('scar', 'ca rs')"
   ]
  },
  {
   "cell_type": "code",
   "execution_count": null,
   "id": "cf72932e",
   "metadata": {},
   "outputs": [],
   "source": []
  }
 ],
 "metadata": {
  "kernelspec": {
   "display_name": "Python 3",
   "language": "python",
   "name": "python3"
  },
  "language_info": {
   "codemirror_mode": {
    "name": "ipython",
    "version": 3
   },
   "file_extension": ".py",
   "mimetype": "text/x-python",
   "name": "python",
   "nbconvert_exporter": "python",
   "pygments_lexer": "ipython3",
   "version": "3.8.10"
  }
 },
 "nbformat": 4,
 "nbformat_minor": 5
}
