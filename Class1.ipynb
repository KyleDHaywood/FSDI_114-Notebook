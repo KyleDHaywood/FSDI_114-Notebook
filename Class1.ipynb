{
 "cells": [
  {
   "cell_type": "markdown",
   "metadata": {},
   "source": []
  },
  {
   "cell_type": "code",
   "execution_count": 68,
   "metadata": {},
   "outputs": [
    {
     "data": {
      "text/plain": [
       "True"
      ]
     },
     "execution_count": 68,
     "metadata": {},
     "output_type": "execute_result"
    }
   ],
   "source": [
    "def is_anagram1(string_a, string_b):\n",
    "    a =  \"\".join(string_a.split())\n",
    "    b =  \"\".join(string_b.split())\n",
    "    \n",
    "    if len(a) != len(b):\n",
    "        return False\n",
    "    else:\n",
    "        new_a=a.lower()\n",
    "        new_b=b.lower()\n",
    "    char_time_a = dict()\n",
    "    char_time_b = dict()\n",
    "    for i in range(len(new_a)):\n",
    "        if new_a[i] not in char_time_a.keys():\n",
    "            char_time_a[new_a[i]]=1\n",
    "        else:\n",
    "            char_time_a[new_a[i]]+=1\n",
    "        if new_b[i] not in char_time_b.keys():\n",
    "            char_time_b[new_b[i]]=1\n",
    "        else:\n",
    "            char_time_b[new_b[i]]+=1\n",
    "    \n",
    "    return char_time_a == char_time_b\n",
    "    \n",
    "    \n",
    "\n",
    "is_anagram1(\"I am lord Voldemort\", \"Tom Marvolo Riddle\")\n",
    "    \n",
    "\n",
    "is_anagram1(\"I am lord Voldemort\", \"Tom Marvolo Riddle\")"
   ]
  },
  {
   "cell_type": "code",
   "execution_count": 38,
   "metadata": {},
   "outputs": [
    {
     "data": {
      "text/plain": [
       "'halb'"
      ]
     },
     "execution_count": 38,
     "metadata": {},
     "output_type": "execute_result"
    }
   ],
   "source": [
    "\n",
    "class Stack():    \n",
    "\n",
    "    def __init__(self):\n",
    "        self.items = []\n",
    "        \n",
    "    def push(self, item):\n",
    "        return self.items.append(item)\n",
    "\n",
    "    def is_empty(self):\n",
    "        return self.items == []\n",
    "\n",
    "    def pop(self):\n",
    "        return self.items.pop()\n",
    "\n",
    "    def peek(self):\n",
    "        return self.items[len(self.items)-1]\n",
    "\n",
    "    def size(self):\n",
    "        return len(self.item)\n",
    "      \n",
    "\n",
    "def string_reversal(string):\n",
    "    stack = Stack()\n",
    "    for letter in string:\n",
    "        stack.push(letter)\n",
    "    output = \"\"\n",
    "    while stack.is_empty() == False:\n",
    "        output += stack.pop()\n",
    "    return output\n",
    "\n",
    "string_reversal(\"blah\")"
   ]
  },
  {
   "cell_type": "code",
   "execution_count": 40,
   "metadata": {},
   "outputs": [
    {
     "data": {
      "text/plain": [
       "True"
      ]
     },
     "execution_count": 40,
     "metadata": {},
     "output_type": "execute_result"
    }
   ],
   "source": [
    "def is_palindrome(string):\n",
    "    pivot2 = len(string)-1\n",
    "    pivot1 = 0\n",
    "    while pivot2 > pivot1:\n",
    "        if string[pivot1] != string[pivot2]:\n",
    "            return False\n",
    "        pivot1 += 1\n",
    "        pivot2 -= 1\n",
    "    return True\n",
    "\n",
    "is_palindrome(\"racecar\")"
   ]
  },
  {
   "cell_type": "markdown",
   "metadata": {},
   "source": [
    "# Problem 1\n",
    "## Anagram check.\n",
    "\n",
    "### Check if two strings are anagrams of each other consider the following:\n",
    "\n",
    "#### Given two strings (string_1 and string_b) we must first validate that these are of equal length and that they use the same characters in the exact same amount of times. \n",
    "\n",
    "#### For example: cars and scar are anagrams but cars and scaar are not; Similarly, scar and sccr are not anagrams of each other."
   ]
  },
  {
   "cell_type": "code",
   "execution_count": 5,
   "metadata": {},
   "outputs": [],
   "source": [
    "class Queue:\n",
    "    def __init__(self):\n",
    "        self.items = []\n",
    "    \n",
    "    def is_empty(self):\n",
    "        return self.items ==[]\n",
    "    \n",
    "    def enqueue(self, item):\n",
    "        self.items.insert(0, item)\n",
    "        \n",
    "    def dequeue(self):\n",
    "        return self.items.pop()\n",
    "    \n",
    "    def size(self):\n",
    "        return len(self.items)\n",
    "    \n",
    "queue = Queue()\n",
    "for letter in string:\n",
    "    queue.enqueue(letter)\n",
    "    \n",
    "while queue.is_empty() != True:\n",
    "    print(queue.dequeue())\n",
    "    \n",
    "def balance_check(s):\n",
    "    "
   ]
  },
  {
   "cell_type": "code",
   "execution_count": 63,
   "metadata": {},
   "outputs": [
    {
     "ename": "SyntaxError",
     "evalue": "invalid syntax (<ipython-input-63-bda94d72529a>, line 35)",
     "output_type": "error",
     "traceback": [
      "\u001b[0;36m  File \u001b[0;32m\"<ipython-input-63-bda94d72529a>\"\u001b[0;36m, line \u001b[0;32m35\u001b[0m\n\u001b[0;31m    for s[pivot1]:\u001b[0m\n\u001b[0m                 ^\u001b[0m\n\u001b[0;31mSyntaxError\u001b[0m\u001b[0;31m:\u001b[0m invalid syntax\n"
     ]
    }
   ],
   "source": [
    "class Stack():    \n",
    "\n",
    "    def __init__(self):\n",
    "        self.items = []\n",
    "        \n",
    "    def push(self, item):\n",
    "        return self.items.append(item)\n",
    "\n",
    "    def is_empty(self):\n",
    "        return self.items == []\n",
    "\n",
    "    def pop(self):\n",
    "        return self.items.pop()\n",
    "\n",
    "    def peek(self):\n",
    "        return self.items[len(self.items)-1]\n",
    "\n",
    "    def size(self):\n",
    "        return len(self.item)\n",
    "      \n",
    "\n",
    "def balance_check(s):\n",
    "    stack = Stack()\n",
    "    if len(s)%2 != 0:\n",
    "        return False\n",
    "    \n",
    "    opening = set(\"({[\")\n",
    "    matches = set([\n",
    "        (\"(\",\")\"),\n",
    "        (\"{\",\"}\"),\n",
    "        (\"[\",\"]\"),\n",
    "    ])\n",
    "    stack = Stack()\n",
    "    for paren in s:\n",
    "        if paren in opening\n",
    "   \n",
    "\n",
    "\n",
    "balance_check(\"(()({{{}}[[[]]]})))\")"
   ]
  },
  {
   "cell_type": "code",
   "execution_count": 43,
   "metadata": {},
   "outputs": [
    {
     "name": "stdout",
     "output_type": "stream",
     "text": [
      "0\n",
      "1\n",
      "2\n"
     ]
    }
   ],
   "source": [
    "class Queue2Stacks:\n",
    "    def __init__(self):\n",
    "        #two stacks\n",
    "        self.stack1=[]\n",
    "        self.stack2=[]\n",
    "        \n",
    "    def enqueue(self, element):\n",
    "        #fill out code here\n",
    "#         push all elements into this stack\n",
    "        self.stack1.append(element)\n",
    "        \n",
    "    \n",
    "    def dequeue(self):\n",
    "        #fill out code here\n",
    "#         while stack 1 is not empty, pop items out of stack1, push/append into stack2\n",
    "#         while stack 1 is empyty, then pop all elements\n",
    "        while self.stack1 != []:\n",
    "            self.stack2.append(self.stack1.pop())\n",
    "        return self.stack2.pop()\n",
    "        \n",
    "    \n",
    "def test():\n",
    "#         this should prin: 0,1,2,3,4 note it will print vertically\n",
    "    q=Queue2Stacks()\n",
    "    for i in range(3):\n",
    "        q.enqueue(i)\n",
    "    for i in range(3):\n",
    "        print(q.dequeue())\n",
    "    \n",
    "test()"
   ]
  },
  {
   "cell_type": "code",
   "execution_count": 47,
   "metadata": {},
   "outputs": [
    {
     "data": {
      "text/plain": [
       "24"
      ]
     },
     "execution_count": 47,
     "metadata": {},
     "output_type": "execute_result"
    }
   ],
   "source": [
    "def fact(n):\n",
    "    if n ==0:\n",
    "        return 1\n",
    "    return n * fact(n-1)\n",
    "fact(4)"
   ]
  },
  {
   "cell_type": "code",
   "execution_count": 50,
   "metadata": {},
   "outputs": [
    {
     "data": {
      "text/plain": [
       "75025"
      ]
     },
     "execution_count": 50,
     "metadata": {},
     "output_type": "execute_result"
    }
   ],
   "source": [
    "def fib(n):\n",
    "    if n < 2: # BASE CASE\n",
    "        return n\n",
    "    return fib(n-1)+ fib(n-2)\n",
    "fib(4)"
   ]
  },
  {
   "cell_type": "code",
   "execution_count": 56,
   "metadata": {},
   "outputs": [
    {
     "data": {
      "text/plain": [
       "354224848179261915075"
      ]
     },
     "execution_count": 56,
     "metadata": {},
     "output_type": "execute_result"
    }
   ],
   "source": [
    "from functools import lru_cache\n",
    "\n",
    "@lru_cache\n",
    "def fib_2(n):\n",
    "    if n < 2:\n",
    "        return n\n",
    "    return fib_2(n-1) + fib_2(n-2)\n",
    "\n",
    "fib_2(100)"
   ]
  },
  {
   "cell_type": "code",
   "execution_count": 55,
   "metadata": {},
   "outputs": [
    {
     "data": {
      "text/plain": [
       "354224848179261915075"
      ]
     },
     "execution_count": 55,
     "metadata": {},
     "output_type": "execute_result"
    }
   ],
   "source": [
    "fib_numbers = {}\n",
    "\n",
    "def fib_3(n):\n",
    "    if n in fib_numbers.keys():\n",
    "        return fib_numbers.get(n)\n",
    "    else:\n",
    "        if n < 2:\n",
    "            return n\n",
    "        fib_numbers[n] = fib_3(n-1) +fib_3(n-2)\n",
    "        return fib_numbers.get(n)\n",
    "    \n",
    "fib_3(100)"
   ]
  },
  {
   "cell_type": "code",
   "execution_count": 124,
   "metadata": {},
   "outputs": [
    {
     "name": "stdout",
     "output_type": "stream",
     "text": [
      "[0,1,2,3,4,5,6]\n",
      "[0,1,2,3,4,5,6]\n"
     ]
    }
   ],
   "source": [
    "class Node:\n",
    "    def __init__(self, data):\n",
    "        self.data = data\n",
    "        self.next = None\n",
    "        \n",
    "head = Node(0)\n",
    "node1 = Node(1)\n",
    "\n",
    "head.next = node1\n",
    "node2 = Node(2)\n",
    "node1.next = node2\n",
    "current = head\n",
    "\n",
    "# while current: # this is shorthand for current != None\n",
    "#     print(current.data)\n",
    "#     curent = current.next\n",
    "    \n",
    "class SinglyLinkedList:\n",
    "    def __init__(self):\n",
    "        self.head = None\n",
    "        \n",
    "    def append(self, item):\n",
    "        if not self.head:\n",
    "            self.head = Node(item)\n",
    "        else:\n",
    "            current = self.head\n",
    "            while current.next:\n",
    "                current = current.next\n",
    "            current.next = Node(item)\n",
    "\n",
    "    def insert(self, index, value):\n",
    "        new_node = Node(value)\n",
    "        if not self.head:\n",
    "            self.head = new_node\n",
    "        else:\n",
    "            if index == 0:\n",
    "                temp_node = self.head\n",
    "                self.head = new_node\n",
    "                new_node.next = temp_node\n",
    "            else:\n",
    "                counter = 0\n",
    "                prev_node = None\n",
    "                current = self.head\n",
    "                while current.next and index != counter:\n",
    "                    counter += 1\n",
    "                    prev_node = current\n",
    "                    current = current.next\n",
    "                if not current.next:\n",
    "                    current.next = new_node\n",
    "                else:\n",
    "                    prev_node = new_node\n",
    "                    new_node.next = current\n",
    "    \n",
    "    def remove(self, value):\n",
    "        current = self.head\n",
    "        prev_node = None\n",
    "        if current.data == value:\n",
    "            self.head = current.next\n",
    "        else:\n",
    "            while current.next and current.data != value:\n",
    "                prev_node = current\n",
    "                current = current.next\n",
    "            if current.data == value:\n",
    "                 prev_node.next = current.next\n",
    "            else:\n",
    "                raise valueError(\"%s not in list\" % value)\n",
    "\n",
    "    def __len__(self):\n",
    "        counter = 0\n",
    "        current = self.head\n",
    "        while current:\n",
    "            counter +=1\n",
    "            current = current.next\n",
    "        return current\n",
    "    \n",
    "#     def getitem()\n",
    "                \n",
    "    def __str__(self):\n",
    "        out_str = \"[\"\n",
    "        current = self.head\n",
    "        while current.next:\n",
    "            out_str += \"%s,\" % str(current.data)\n",
    "            current = current.next\n",
    "        out_str += \"%s]\"  % str(current.data)\n",
    "        \n",
    "        return out_str\n",
    "    \n",
    "myList = [0, 1, 2, 3, 4]\n",
    "    \n",
    "sll = SinglyLinkedList()\n",
    "for i in range(7):\n",
    "    sll.append(i)\n",
    "    \n",
    "\n",
    "\n",
    "print(sll)\n",
    "sll.insert(3, 8)\n",
    "print(sll)\n"
   ]
  },
  {
   "cell_type": "code",
   "execution_count": 115,
   "metadata": {},
   "outputs": [
    {
     "ename": "SyntaxError",
     "evalue": "invalid syntax (<ipython-input-115-a1ea35c86276>, line 1)",
     "output_type": "error",
     "traceback": [
      "\u001b[0;36m  File \u001b[0;32m\"<ipython-input-115-a1ea35c86276>\"\u001b[0;36m, line \u001b[0;32m1\u001b[0m\n\u001b[0;31m    Find the node that points to our target\u001b[0m\n\u001b[0m         ^\u001b[0m\n\u001b[0;31mSyntaxError\u001b[0m\u001b[0;31m:\u001b[0m invalid syntax\n"
     ]
    }
   ],
   "source": [
    "Find the node that points to our target\n",
    "    where node.next=node(target)\n",
    "    \n",
    "create new node that self.next's to target\n",
    "        \n",
    "change pointer of previously found node that self.next's to newly created node"
   ]
  },
  {
   "cell_type": "code",
   "execution_count": null,
   "metadata": {},
   "outputs": [],
   "source": [
    "x= 5\n",
    "y= x\n",
    "\n",
    "y+=1\n",
    "print(x)\n",
    "print(y)"
   ]
  },
  {
   "cell_type": "code",
   "execution_count": null,
   "metadata": {},
   "outputs": [],
   "source": [
    "x = [1, 2, 3, 4]\n",
    "y = x\n",
    "y.append(5)\n",
    "\n",
    "print(x)\n",
    "print(y)\n"
   ]
  },
  {
   "cell_type": "code",
   "execution_count": 97,
   "metadata": {},
   "outputs": [
    {
     "ename": "TypeError",
     "evalue": "'DNode' object is not callable",
     "output_type": "error",
     "traceback": [
      "\u001b[0;31m---------------------------------------------------------------------------\u001b[0m",
      "\u001b[0;31mTypeError\u001b[0m                                 Traceback (most recent call last)",
      "\u001b[0;32m<ipython-input-97-b039d0794378>\u001b[0m in \u001b[0;36m<module>\u001b[0;34m\u001b[0m\n\u001b[1;32m     67\u001b[0m \u001b[0mdll\u001b[0m\u001b[0;34m=\u001b[0m\u001b[0mDoublyLinkedList\u001b[0m\u001b[0;34m(\u001b[0m\u001b[0;34m)\u001b[0m\u001b[0;34m\u001b[0m\u001b[0;34m\u001b[0m\u001b[0m\n\u001b[1;32m     68\u001b[0m \u001b[0;32mfor\u001b[0m \u001b[0mi\u001b[0m \u001b[0;32min\u001b[0m \u001b[0mrange\u001b[0m\u001b[0;34m(\u001b[0m\u001b[0;36m5\u001b[0m\u001b[0;34m)\u001b[0m\u001b[0;34m:\u001b[0m\u001b[0;34m\u001b[0m\u001b[0;34m\u001b[0m\u001b[0m\n\u001b[0;32m---> 69\u001b[0;31m         \u001b[0mdll\u001b[0m\u001b[0;34m.\u001b[0m\u001b[0mappend\u001b[0m\u001b[0;34m(\u001b[0m\u001b[0mi\u001b[0m\u001b[0;34m)\u001b[0m\u001b[0;34m\u001b[0m\u001b[0;34m\u001b[0m\u001b[0m\n\u001b[0m\u001b[1;32m     70\u001b[0m \u001b[0;34m\u001b[0m\u001b[0m\n\u001b[1;32m     71\u001b[0m \u001b[0;34m\u001b[0m\u001b[0m\n",
      "\u001b[0;32m<ipython-input-97-b039d0794378>\u001b[0m in \u001b[0;36mappend\u001b[0;34m(self, value)\u001b[0m\n\u001b[1;32m     20\u001b[0m         \u001b[0mnew_node\u001b[0m \u001b[0;34m=\u001b[0m \u001b[0mDNode\u001b[0m\u001b[0;34m(\u001b[0m\u001b[0mvalue\u001b[0m\u001b[0;34m)\u001b[0m\u001b[0;34m\u001b[0m\u001b[0;34m\u001b[0m\u001b[0m\n\u001b[1;32m     21\u001b[0m         \u001b[0;32mif\u001b[0m \u001b[0;32mnot\u001b[0m \u001b[0mself\u001b[0m\u001b[0;34m.\u001b[0m\u001b[0mhead\u001b[0m\u001b[0;34m:\u001b[0m\u001b[0;34m\u001b[0m\u001b[0;34m\u001b[0m\u001b[0m\n\u001b[0;32m---> 22\u001b[0;31m             \u001b[0mself\u001b[0m\u001b[0;34m.\u001b[0m\u001b[0mhead\u001b[0m \u001b[0;34m=\u001b[0m \u001b[0mnew_node\u001b[0m\u001b[0;34m(\u001b[0m\u001b[0mvalue\u001b[0m\u001b[0;34m)\u001b[0m\u001b[0;34m\u001b[0m\u001b[0;34m\u001b[0m\u001b[0m\n\u001b[0m\u001b[1;32m     23\u001b[0m         \u001b[0;32melse\u001b[0m\u001b[0;34m:\u001b[0m\u001b[0;34m\u001b[0m\u001b[0;34m\u001b[0m\u001b[0m\n\u001b[1;32m     24\u001b[0m             \u001b[0mcurrent\u001b[0m \u001b[0;34m=\u001b[0m \u001b[0mself\u001b[0m\u001b[0;34m.\u001b[0m\u001b[0mhead\u001b[0m\u001b[0;34m\u001b[0m\u001b[0;34m\u001b[0m\u001b[0m\n",
      "\u001b[0;31mTypeError\u001b[0m: 'DNode' object is not callable"
     ]
    }
   ],
   "source": [
    "class DNode:\n",
    "    def __init__(self, data):\n",
    "        self.data = data\n",
    "        self.next = None\n",
    "        self.prev = None\n",
    "\n",
    "# head = Node(0)\n",
    "# node1 = Node(1)\n",
    "\n",
    "# head.next = node1\n",
    "# node2 = Node(2)\n",
    "# node1.next = node2\n",
    "# current = head\n",
    "\n",
    "# class DoublyLinkedList:\n",
    "#     def __init__(self):\n",
    "#         self.head = None\n",
    "        \n",
    "#     def append(self, value):\n",
    "#         new_node = DNode(value)\n",
    "#         if not self.head:\n",
    "#             self.head = new_node(value)\n",
    "#         else:\n",
    "#             current = self.head\n",
    "#             while current.next:\n",
    "#                 current = current.next\n",
    "#                 current.next = new.node\n",
    "#                 new_node.prev = current\n",
    "                \n",
    "                \n",
    "#     def insert(self, index, value):\n",
    "#         new_node = DNode(value)\n",
    "#         if not self.head:\n",
    "#             self.head = new_node\n",
    "#         else:\n",
    "#             if index == 0:\n",
    "#                 temp_node = self.head\n",
    "#                 self.head = new_node\n",
    "#                 new_node.next = temp_node\n",
    "#             else:\n",
    "#                 counter = 0\n",
    "#                 prev_node = None\n",
    "#                 next_node = self.next\n",
    "#                 current = self.head\n",
    "#                 while current.next and index != counter:\n",
    "#                     counter += 1\n",
    "#                     prev_node = current\n",
    "#                     current = current.next\n",
    "#                 if not current.next:\n",
    "#                     current.next = new_node\n",
    "#                 else:\n",
    "#                     prev_node = new_node\n",
    "#                     new_node.next = current\n",
    "# #                 add insert, remove and __str__ methods\n",
    "\n",
    "#     def __str__(self):\n",
    "#         out_str = \"[\"\n",
    "#         current = self.head\n",
    "#         while current.next:\n",
    "#             out_str += \"%s,\" % str(current.data)\n",
    "#             current = current.next\n",
    "#         out_str += \"%s]\" % current.data\n",
    "        \n",
    "#         return out_str\n",
    "\n",
    "# mylist = [\"a\", \"b\", \"c\", \"d\"]\n",
    "# dll=DoublyLinkedList()\n",
    "# for i in range(5):\n",
    "#         dll.append(i)\n",
    "\n",
    "\n",
    "class DNode:\n",
    "    def __init__(self, data):\n",
    "        self.data = data\n",
    "        self.next = None\n",
    "        self.prev = None# print(mylist)\n",
    "# print(dll)"
   ]
  },
  {
   "cell_type": "code",
   "execution_count": 198,
   "metadata": {},
   "outputs": [
    {
     "name": "stdout",
     "output_type": "stream",
     "text": [
      "<__main__.DoublyLinkedList object at 0x7fba8d9866d0>\n"
     ]
    }
   ],
   "source": [
    "class DNode:\n",
    "    def __init__(self, data):\n",
    "        self.data = data\n",
    "        self.next = None\n",
    "        self.prev = None\n",
    "\n",
    "class DoublyLinkedList:\n",
    "    def __init__(self):\n",
    "        self.head = None\n",
    "\n",
    "    def append(self, value):\n",
    "        new_node = DNode(value)\n",
    "        if not self.head:\n",
    "            self.head = new_node\n",
    "        else:\n",
    "            current = self.head\n",
    "            while current.next:\n",
    "                current = current.next\n",
    "            current.next = new_node\n",
    "            new_node.prev = current\n",
    "\n",
    "    def insert(self, index, value):\n",
    "        new_node = DNode(value)\n",
    "        if not self.head:\n",
    "            self.head = new_node\n",
    "        else:\n",
    "            if index == 0:\n",
    "                temp_node = self.head\n",
    "                self.head = new_node\n",
    "                temp_node.prev = self.head\n",
    "                new_node.next = temp_node\n",
    "            else:\n",
    "                counter = 0\n",
    "                prev_node = None\n",
    "                current = self.head\n",
    "                next_node = current.next\n",
    "                while next_node and index != counter:\n",
    "                    counter += 1\n",
    "                    prev_node = current\n",
    "                    current = next_node\n",
    "                    next_node = current.next\n",
    "                if not next_node:\n",
    "                    current.next = new_node\n",
    "                else:\n",
    "                    prev_node.next = new_node\n",
    "                    new_node.next = current\n",
    "    def str(self):\n",
    "        out_str = \"[\"\n",
    "        current = self.head\n",
    "        while current.next:\n",
    "            out_str += \"%s, \"  % repr(current.data)\n",
    "            current = current.next\n",
    "        out_str += \"%s]\" % current.data\n",
    "        return out_str\n",
    "\n",
    "    def remove(self, value):\n",
    "        current = self.head\n",
    "        if current.data == value:\n",
    "            self.head = current.next\n",
    "        else:\n",
    "            prev_node = None\n",
    "            while current.next and current.data != value:\n",
    "                prev_node = current\n",
    "                current = current.next\n",
    "            if current.data == value:\n",
    "                prev_node.next = current.next\n",
    "                current.next.prev = prev_node\n",
    "            else:\n",
    "                raise ValueError(\"%s not in list\" % repr(value))\n",
    "\n",
    "\n",
    "dll = DoublyLinkedList()\n",
    "\n",
    "for i in range(5):\n",
    "    dll.append(i)\n",
    "\n",
    "dll.insert(2, \"new\")\n",
    "\n",
    "dll.remove(\"new\")\n",
    "\n",
    "print(dll)"
   ]
  },
  {
   "cell_type": "code",
   "execution_count": null,
   "metadata": {},
   "outputs": [],
   "source": [
    "codewars, hackerrank, "
   ]
  },
  {
   "cell_type": "code",
   "execution_count": 193,
   "metadata": {},
   "outputs": [
    {
     "name": "stdout",
     "output_type": "stream",
     "text": [
      "[0, 0, 0, 0, 0, 0, 0, 0, 0, 0, 0]\n",
      "---Insert data function test---\n",
      "[0, 0, 0, 0, ('kyle@gmail.com', ('kyle@gmail.com', 'kyle', 'haywood', 1000)), 0, 0, 0, 0, 0, 0]\n",
      "---Get number elements function test---\n",
      "1\n",
      "---Get data function test---\n",
      "('kyle@gmail.com', 'kyle', 'haywood', 1000)\n",
      "---Remove data function test---\n",
      "[0, 0, 0, 0, 0, 0, 0, 0, 0, 0, 0]\n"
     ]
    }
   ],
   "source": [
    "class HashTable(object):\n",
    "    def __init__(self, size=11):        \n",
    "        self.num_elements = 0\n",
    "        self.data = [0] * size\n",
    "        self.size = len(self.data)\n",
    "        print(self.data)\n",
    " \n",
    "    def __resize(self):\n",
    "        pass\n",
    " \n",
    "    def __get_hash_index(self, key):\n",
    "        key_str = str(key)\n",
    "        our_hash = int(hashlib.md5(key_str.encode()).hexdigest(), 16)        \n",
    "        return our_hash % self.size\n",
    " \n",
    "    def insert(self, key, value):\n",
    "        \"\"\"\n",
    "        This inserts data into our hash table\n",
    " \n",
    "        Returns none\n",
    " \n",
    "        Args:\n",
    "          key(str): The key to insert\n",
    "          value(tuple): Tuple of customer data \n",
    "        \"\"\"\n",
    "        hash_data = (key, value)\n",
    "        hash_index = self.__get_hash_index(key)\n",
    "        self.data[hash_index] = hash_data\n",
    "        self.num_elements += 1\n",
    "        # TODO: If num_elements == self.size * 2 then resize\n",
    " \n",
    "    def get(self, key):\n",
    "        \"\"\"Get data by a key\"\"\"\n",
    "        hash_index = self.__get_hash_index(key)\n",
    "        data = self.data[hash_index]\n",
    "        datakey = data[0]\n",
    "        if key != datakey or data == 0:\n",
    "            raise KeyError(\"Hash key does not exist\")\n",
    " \n",
    "        return data[1]\n",
    " \n",
    "    def remove(self, key):\n",
    "        hash_index = self.__get_hash_index(key)\n",
    "        data = self.data[hash_index]\n",
    "        datakey = data[0]\n",
    "        if key != datakey or data == 0:\n",
    "            raise KeyError(\"Hash key does not exist\")\n",
    " \n",
    "        self.data[hash_index] = 0\n",
    "        self.num_elements -= 1\n",
    " \n",
    "    def key_contains(self, substring):\n",
    "        \"\"\"\n",
    "        Look through all the keys and return data as a list\n",
    "        that partial matches the substring\n",
    "        \"\"\"\n",
    "        pass\n",
    " \n",
    "my_data = (\"kyle@gmail.com\", \"kyle\", \"haywood\", 1000)\n",
    "hash_table = HashTable()\n",
    "hash_table.insert(my_data[0],my_data)\n",
    "print(\"---Insert data function test---\")\n",
    "print(hash_table.data)\n",
    "print(\"---Get number elements function test---\")\n",
    "print(hash_table.num_elements)\n",
    "print(\"---Get data function test---\")\n",
    "print(hash_table.get(my_data[0]))\n",
    "print(\"---Remove data function test---\")\n",
    "hash_table.remove(my_data[0])\n",
    "print(hash_table.data)"
   ]
  },
  {
   "cell_type": "code",
   "execution_count": 201,
   "metadata": {},
   "outputs": [
    {
     "name": "stdout",
     "output_type": "stream",
     "text": [
      "55\n"
     ]
    }
   ],
   "source": [
    "def gum(n):\n",
    "\n",
    "    total = 0\n",
    "\n",
    "    for i in range(n+1):\n",
    "\n",
    "         total += i\n",
    "    print(total)\n",
    "(gum(10))\n"
   ]
  },
  {
   "cell_type": "code",
   "execution_count": 180,
   "metadata": {},
   "outputs": [
    {
     "name": "stdout",
     "output_type": "stream",
     "text": [
      "[0, 0, 0, 0, 0, 0, 0, 0, 0, 0, 0]\n"
     ]
    },
    {
     "ename": "ValueError",
     "evalue": "invalid literal for int() with base 10: 'kyle'",
     "output_type": "error",
     "traceback": [
      "\u001b[0;31m---------------------------------------------------------------------------\u001b[0m",
      "\u001b[0;31mValueError\u001b[0m                                Traceback (most recent call last)",
      "\u001b[0;32m<ipython-input-180-0a063772802d>\u001b[0m in \u001b[0;36m<module>\u001b[0;34m\u001b[0m\n\u001b[1;32m     29\u001b[0m \u001b[0;34m\u001b[0m\u001b[0m\n\u001b[1;32m     30\u001b[0m \u001b[0mhash\u001b[0m\u001b[0;34m=\u001b[0m\u001b[0mHashTable1\u001b[0m\u001b[0;34m(\u001b[0m\u001b[0;34m)\u001b[0m\u001b[0;34m\u001b[0m\u001b[0;34m\u001b[0m\u001b[0m\n\u001b[0;32m---> 31\u001b[0;31m \u001b[0mhash\u001b[0m\u001b[0;34m.\u001b[0m\u001b[0minsert\u001b[0m\u001b[0;34m(\u001b[0m\u001b[0;34m'kyle'\u001b[0m\u001b[0;34m,\u001b[0m \u001b[0;34m'dskljfds'\u001b[0m\u001b[0;34m)\u001b[0m\u001b[0;34m\u001b[0m\u001b[0;34m\u001b[0m\u001b[0m\n\u001b[0m\u001b[1;32m     32\u001b[0m \u001b[0mprint\u001b[0m\u001b[0;34m(\u001b[0m\u001b[0;34m\"== Insert data ==\"\u001b[0m\u001b[0;34m)\u001b[0m\u001b[0;34m\u001b[0m\u001b[0;34m\u001b[0m\u001b[0m\n\u001b[1;32m     33\u001b[0m \u001b[0mprint\u001b[0m\u001b[0;34m(\u001b[0m\u001b[0mhash\u001b[0m\u001b[0;34m.\u001b[0m\u001b[0mdata\u001b[0m\u001b[0;34m)\u001b[0m\u001b[0;34m\u001b[0m\u001b[0;34m\u001b[0m\u001b[0m\n",
      "\u001b[0;32m<ipython-input-180-0a063772802d>\u001b[0m in \u001b[0;36minsert\u001b[0;34m(self, key, value)\u001b[0m\n\u001b[1;32m     22\u001b[0m         \"\"\"\n\u001b[1;32m     23\u001b[0m         \u001b[0mhash_data\u001b[0m \u001b[0;34m=\u001b[0m \u001b[0;34m(\u001b[0m\u001b[0mkey\u001b[0m\u001b[0;34m,\u001b[0m \u001b[0mvalue\u001b[0m\u001b[0;34m)\u001b[0m\u001b[0;34m\u001b[0m\u001b[0;34m\u001b[0m\u001b[0m\n\u001b[0;32m---> 24\u001b[0;31m         \u001b[0mhash_index\u001b[0m \u001b[0;34m=\u001b[0m \u001b[0mself\u001b[0m\u001b[0;34m.\u001b[0m\u001b[0m__get_hash_index\u001b[0m\u001b[0;34m(\u001b[0m\u001b[0mkey\u001b[0m\u001b[0;34m)\u001b[0m\u001b[0;34m\u001b[0m\u001b[0;34m\u001b[0m\u001b[0m\n\u001b[0m\u001b[1;32m     25\u001b[0m         \u001b[0mself\u001b[0m\u001b[0;34m.\u001b[0m\u001b[0mdata\u001b[0m\u001b[0;34m[\u001b[0m\u001b[0mhash_index\u001b[0m\u001b[0;34m]\u001b[0m \u001b[0;34m=\u001b[0m \u001b[0mhash_data\u001b[0m\u001b[0;34m\u001b[0m\u001b[0;34m\u001b[0m\u001b[0m\n\u001b[1;32m     26\u001b[0m         \u001b[0mself\u001b[0m\u001b[0;34m.\u001b[0m\u001b[0mnum_elements\u001b[0m \u001b[0;34m+=\u001b[0m \u001b[0;36m1\u001b[0m\u001b[0;34m\u001b[0m\u001b[0;34m\u001b[0m\u001b[0m\n",
      "\u001b[0;32m<ipython-input-180-0a063772802d>\u001b[0m in \u001b[0;36m__get_hash_index\u001b[0;34m(self, key)\u001b[0m\n\u001b[1;32m      8\u001b[0m     \u001b[0;32mdef\u001b[0m \u001b[0m__get_hash_index\u001b[0m\u001b[0;34m(\u001b[0m\u001b[0mself\u001b[0m\u001b[0;34m,\u001b[0m \u001b[0mkey\u001b[0m\u001b[0;34m)\u001b[0m\u001b[0;34m:\u001b[0m\u001b[0;34m\u001b[0m\u001b[0;34m\u001b[0m\u001b[0m\n\u001b[1;32m      9\u001b[0m         \u001b[0mkey_str\u001b[0m \u001b[0;34m=\u001b[0m \u001b[0mstr\u001b[0m\u001b[0;34m(\u001b[0m\u001b[0mkey\u001b[0m\u001b[0;34m)\u001b[0m\u001b[0;34m\u001b[0m\u001b[0;34m\u001b[0m\u001b[0m\n\u001b[0;32m---> 10\u001b[0;31m         \u001b[0mour_hash\u001b[0m \u001b[0;34m=\u001b[0m \u001b[0mint\u001b[0m\u001b[0;34m(\u001b[0m\u001b[0mkey_str\u001b[0m\u001b[0;34m)\u001b[0m\u001b[0;34m\u001b[0m\u001b[0;34m\u001b[0m\u001b[0m\n\u001b[0m\u001b[1;32m     11\u001b[0m         \u001b[0;32mreturn\u001b[0m \u001b[0mour_hash\u001b[0m \u001b[0;34m%\u001b[0m \u001b[0mself\u001b[0m\u001b[0;34m.\u001b[0m\u001b[0msize\u001b[0m\u001b[0;34m\u001b[0m\u001b[0;34m\u001b[0m\u001b[0m\n\u001b[1;32m     12\u001b[0m \u001b[0;34m\u001b[0m\u001b[0m\n",
      "\u001b[0;31mValueError\u001b[0m: invalid literal for int() with base 10: 'kyle'"
     ]
    }
   ],
   "source": [
    "class HashTable1(object):\n",
    "    def __init__(self, size=11):\n",
    "        self.num_elements = 0\n",
    "        self.data = [0] * size\n",
    "        self.size = len(self.data)\n",
    "        print(self.data)\n",
    "        \n",
    "    def enc():\n",
    "        \n",
    "    \n",
    "    def __get_hash_index(self, key):\n",
    "        key_str = str(key)\n",
    "        our_hash = enc(key_str)        \n",
    "        return our_hash % self.size\n",
    "        \n",
    "    def insert(self, key, value):\n",
    "        \"\"\"\n",
    "        This method inserts data into our hash table\n",
    " \n",
    "        Returns none\n",
    " \n",
    "        Args:\n",
    "          key(str): The key to insert\n",
    "          value(tuple): Tuple of customer data \n",
    "        \"\"\"\n",
    "        hash_data = (key, value)\n",
    "        hash_index = self.__get_hash_index(key)\n",
    "        self.data[hash_index] = hash_data\n",
    "        self.num_elements += 1\n",
    "        # TODO: If num_elements == self.size * 2 then resize\n",
    "    \n",
    "\n",
    "hash=HashTable1()\n",
    "hash.insert('kyle', 'dskljfds')\n",
    "print(\"== Insert data ==\")\n",
    "print(hash.data)"
   ]
  },
  {
   "cell_type": "code",
   "execution_count": null,
   "metadata": {},
   "outputs": [],
   "source": []
  }
 ],
 "metadata": {
  "kernelspec": {
   "display_name": "Python 3",
   "language": "python",
   "name": "python3"
  },
  "language_info": {
   "codemirror_mode": {
    "name": "ipython",
    "version": 3
   },
   "file_extension": ".py",
   "mimetype": "text/x-python",
   "name": "python",
   "nbconvert_exporter": "python",
   "pygments_lexer": "ipython3",
   "version": "3.8.10"
  }
 },
 "nbformat": 4,
 "nbformat_minor": 5
}
