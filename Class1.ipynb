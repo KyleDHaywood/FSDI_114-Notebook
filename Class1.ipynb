{
 "cells": [
  {
   "cell_type": "markdown",
   "id": "5a478cda",
   "metadata": {},
   "source": []
  },
  {
   "cell_type": "code",
   "execution_count": 68,
   "id": "5636b4cc",
   "metadata": {},
   "outputs": [
    {
     "data": {
      "text/plain": [
       "True"
      ]
     },
     "execution_count": 68,
     "metadata": {},
     "output_type": "execute_result"
    }
   ],
   "source": [
    "def is_anagram1(string_a, string_b):\n",
    "    a =  \"\".join(string_a.split())\n",
    "    b =  \"\".join(string_b.split())\n",
    "    \n",
    "    if len(a) != len(b):\n",
    "        return False\n",
    "    else:\n",
    "        new_a=a.lower()\n",
    "        new_b=b.lower()\n",
    "    char_time_a = dict()\n",
    "    char_time_b = dict()\n",
    "    for i in range(len(new_a)):\n",
    "        if new_a[i] not in char_time_a.keys():\n",
    "            char_time_a[new_a[i]]=1\n",
    "        else:\n",
    "            char_time_a[new_a[i]]+=1\n",
    "        if new_b[i] not in char_time_b.keys():\n",
    "            char_time_b[new_b[i]]=1\n",
    "        else:\n",
    "            char_time_b[new_b[i]]+=1\n",
    "    \n",
    "    return char_time_a == char_time_b\n",
    "    \n",
    "    \n",
    "\n",
    "is_anagram1(\"I am lord Voldemort\", \"Tom Marvolo Riddle\")\n",
    "    \n",
    "\n",
    "is_anagram1(\"I am lord Voldemort\", \"Tom Marvolo Riddle\")"
   ]
  },
  {
   "cell_type": "code",
   "execution_count": 38,
   "id": "955f4056",
   "metadata": {},
   "outputs": [
    {
     "data": {
      "text/plain": [
       "'halb'"
      ]
     },
     "execution_count": 38,
     "metadata": {},
     "output_type": "execute_result"
    }
   ],
   "source": [
    "\n",
    "class Stack():    \n",
    "\n",
    "    def __init__(self):\n",
    "        self.items = []\n",
    "        \n",
    "    def push(self, item):\n",
    "        return self.items.append(item)\n",
    "\n",
    "    def is_empty(self):\n",
    "        return self.items == []\n",
    "\n",
    "    def pop(self):\n",
    "        return self.items.pop()\n",
    "\n",
    "    def peek(self):\n",
    "        return self.items[len(self.items)-1]\n",
    "\n",
    "    def size(self):\n",
    "        return len(self.item)\n",
    "      \n",
    "\n",
    "def string_reversal(string):\n",
    "    stack = Stack()\n",
    "    for letter in string:\n",
    "        stack.push(letter)\n",
    "    output = \"\"\n",
    "    while stack.is_empty() == False:\n",
    "        output += stack.pop()\n",
    "    return output\n",
    "\n",
    "string_reversal(\"blah\")"
   ]
  },
  {
   "cell_type": "code",
   "execution_count": 40,
   "id": "3428bba1",
   "metadata": {},
   "outputs": [
    {
     "data": {
      "text/plain": [
       "True"
      ]
     },
     "execution_count": 40,
     "metadata": {},
     "output_type": "execute_result"
    }
   ],
   "source": [
    "def is_palindrome(string):\n",
    "    pivot2 = len(string)-1\n",
    "    pivot1 = 0\n",
    "    while pivot2 > pivot1:\n",
    "        if string[pivot1] != string[pivot2]:\n",
    "            return False\n",
    "        pivot1 += 1\n",
    "        pivot2 -= 1\n",
    "    return True\n",
    "\n",
    "is_palindrome(\"racecar\")"
   ]
  },
  {
   "cell_type": "markdown",
   "id": "62b20aa7",
   "metadata": {},
   "source": [
    "# Problem 1\n",
    "## Anagram check.\n",
    "\n",
    "### Check if two strings are anagrams of each other consider the following:\n",
    "\n",
    "#### Given two strings (string_1 and string_b) we must first validate that these are of equal length and that they use the same characters in the exact same amount of times. \n",
    "\n",
    "#### For example: cars and scar are anagrams but cars and scaar are not; Similarly, scar and sccr are not anagrams of each other."
   ]
  },
  {
   "cell_type": "code",
   "execution_count": 5,
   "id": "205511ee",
   "metadata": {},
   "outputs": [],
   "source": [
    "class Queue:\n",
    "    def __init__(self):\n",
    "        self.items = []\n",
    "    \n",
    "    def is_empty(self):\n",
    "        return self.items ==[]\n",
    "    \n",
    "    def enqueue(self, item):\n",
    "        self.items.insert(0, item)\n",
    "        \n",
    "    def dequeue(self):\n",
    "        return self.items.pop()\n",
    "    \n",
    "    def size(self):\n",
    "        return len(self.items)\n",
    "    \n",
    "queue = Queue()\n",
    "for letter in string:\n",
    "    queue.enqueue(letter)\n",
    "    \n",
    "while queue.is_empty() != True:\n",
    "    print(queue.dequeue())\n",
    "    \n",
    "def balance_check(s):\n",
    "    "
   ]
  },
  {
   "cell_type": "code",
   "execution_count": 63,
   "id": "d28de275",
   "metadata": {},
   "outputs": [
    {
     "ename": "SyntaxError",
     "evalue": "invalid syntax (<ipython-input-63-bda94d72529a>, line 35)",
     "output_type": "error",
     "traceback": [
      "\u001b[0;36m  File \u001b[0;32m\"<ipython-input-63-bda94d72529a>\"\u001b[0;36m, line \u001b[0;32m35\u001b[0m\n\u001b[0;31m    for s[pivot1]:\u001b[0m\n\u001b[0m                 ^\u001b[0m\n\u001b[0;31mSyntaxError\u001b[0m\u001b[0;31m:\u001b[0m invalid syntax\n"
     ]
    }
   ],
   "source": [
    "class Stack():    \n",
    "\n",
    "    def __init__(self):\n",
    "        self.items = []\n",
    "        \n",
    "    def push(self, item):\n",
    "        return self.items.append(item)\n",
    "\n",
    "    def is_empty(self):\n",
    "        return self.items == []\n",
    "\n",
    "    def pop(self):\n",
    "        return self.items.pop()\n",
    "\n",
    "    def peek(self):\n",
    "        return self.items[len(self.items)-1]\n",
    "\n",
    "    def size(self):\n",
    "        return len(self.item)\n",
    "      \n",
    "\n",
    "def balance_check(s):\n",
    "    stack = Stack()\n",
    "    if len(s)%2 != 0:\n",
    "        return False\n",
    "    \n",
    "    opening = set(\"({[\")\n",
    "    matches = set([\n",
    "        (\"(\",\")\"),\n",
    "        (\"{\",\"}\"),\n",
    "        (\"[\",\"]\"),\n",
    "    ])\n",
    "    stack = Stack()\n",
    "    for paren in s:\n",
    "        if paren in opening\n",
    "   \n",
    "\n",
    "\n",
    "balance_check(\"(()({{{}}[[[]]]})))\")"
   ]
  },
  {
   "cell_type": "code",
   "execution_count": 43,
   "id": "02e30d1b",
   "metadata": {},
   "outputs": [
    {
     "name": "stdout",
     "output_type": "stream",
     "text": [
      "0\n",
      "1\n",
      "2\n"
     ]
    }
   ],
   "source": [
    "class Queue2Stacks:\n",
    "    def __init__(self):\n",
    "        #two stacks\n",
    "        self.stack1=[]\n",
    "        self.stack2=[]\n",
    "        \n",
    "    def enqueue(self, element):\n",
    "        #fill out code here\n",
    "#         push all elements into this stack\n",
    "        self.stack1.append(element)\n",
    "        \n",
    "    \n",
    "    def dequeue(self):\n",
    "        #fill out code here\n",
    "#         while stack 1 is not empty, pop items out of stack1, push/append into stack2\n",
    "#         while stack 1 is empyty, then pop all elements\n",
    "        while self.stack1 != []:\n",
    "            self.stack2.append(self.stack1.pop())\n",
    "        return self.stack2.pop()\n",
    "        \n",
    "    \n",
    "def test():\n",
    "#         this should prin: 0,1,2,3,4 note it will print vertically\n",
    "    q=Queue2Stacks()\n",
    "    for i in range(3):\n",
    "        q.enqueue(i)\n",
    "    for i in range(3):\n",
    "        print(q.dequeue())\n",
    "    \n",
    "test()"
   ]
  },
  {
   "cell_type": "code",
   "execution_count": 47,
   "id": "c673a481",
   "metadata": {},
   "outputs": [
    {
     "data": {
      "text/plain": [
       "24"
      ]
     },
     "execution_count": 47,
     "metadata": {},
     "output_type": "execute_result"
    }
   ],
   "source": [
    "def fact(n):\n",
    "    if n ==0:\n",
    "        return 1\n",
    "    return n * fact(n-1)\n",
    "fact(4)"
   ]
  },
  {
   "cell_type": "code",
   "execution_count": 50,
   "id": "be1d8736",
   "metadata": {},
   "outputs": [
    {
     "data": {
      "text/plain": [
       "75025"
      ]
     },
     "execution_count": 50,
     "metadata": {},
     "output_type": "execute_result"
    }
   ],
   "source": [
    "def fib(n):\n",
    "    if n < 2: # BASE CASE\n",
    "        return n\n",
    "    return fib(n-1)+ fib(n-2)\n",
    "fib(4)"
   ]
  },
  {
   "cell_type": "code",
   "execution_count": 56,
   "id": "05922b6d",
   "metadata": {},
   "outputs": [
    {
     "data": {
      "text/plain": [
       "354224848179261915075"
      ]
     },
     "execution_count": 56,
     "metadata": {},
     "output_type": "execute_result"
    }
   ],
   "source": [
    "from functools import lru_cache\n",
    "\n",
    "@lru_cache\n",
    "def fib_2(n):\n",
    "    if n < 2:\n",
    "        return n\n",
    "    return fib_2(n-1) + fib_2(n-2)\n",
    "\n",
    "fib_2(100)"
   ]
  },
  {
   "cell_type": "code",
   "execution_count": 55,
   "id": "8b272e80",
   "metadata": {},
   "outputs": [
    {
     "data": {
      "text/plain": [
       "354224848179261915075"
      ]
     },
     "execution_count": 55,
     "metadata": {},
     "output_type": "execute_result"
    }
   ],
   "source": [
    "fib_numbers = {}\n",
    "\n",
    "def fib_3(n):\n",
    "    if n in fib_numbers.keys():\n",
    "        return fib_numbers.get(n)\n",
    "    else:\n",
    "        if n < 2:\n",
    "            return n\n",
    "        fib_numbers[n] = fib_3(n-1) +fib_3(n-2)\n",
    "        return fib_numbers.get(n)\n",
    "    \n",
    "fib_3(100)"
   ]
  },
  {
   "cell_type": "code",
   "execution_count": 57,
   "id": "797cf8e5",
   "metadata": {},
   "outputs": [
    {
     "ename": "SyntaxError",
     "evalue": "invalid syntax (<ipython-input-57-7baa00d0ba38>, line 11)",
     "output_type": "error",
     "traceback": [
      "\u001b[0;36m  File \u001b[0;32m\"<ipython-input-57-7baa00d0ba38>\"\u001b[0;36m, line \u001b[0;32m11\u001b[0m\n\u001b[0;31m    head.next = node.1\u001b[0m\n\u001b[0m                    ^\u001b[0m\n\u001b[0;31mSyntaxError\u001b[0m\u001b[0;31m:\u001b[0m invalid syntax\n"
     ]
    }
   ],
   "source": [
    "myList = []\n",
    "\n",
    "class Node:\n",
    "    def __init__(self, data):\n",
    "        self.data = data\n",
    "        self.next = None\n",
    "        \n",
    "head = node(0)\n",
    "node1 = Node(1)\n",
    "\n",
    "head.next = node1\n",
    "node2 = Node(2)\n",
    "node1.next = node2\n",
    "current = head\n",
    "\n",
    "while current: # this is shorthand for current != None\n",
    "    print(current.data)\n",
    "    curent = current.next\n",
    "    \n",
    "class SinglyLinkedList:\n",
    "    def __init__(self):\n",
    "        self.head = None\n",
    "        \n",
    "    def append(self, item):\n",
    "        if not self.head:\n",
    "            self.head = Node(item)\n",
    "        else:\n",
    "            current = self.head\n",
    "            while current.next:\n",
    "                current = current.next\n",
    "            current.next = Node(item)\n",
    "            \n",
    "    def __str__(self):\n",
    "        out_str = \"[\"\n",
    "        current = self.head\n",
    "        while current:\n",
    "            out_str += \"%s,\" % str(current.data)\n",
    "        out_str += \"]\"\n",
    "        return out_str"
   ]
  },
  {
   "cell_type": "code",
   "execution_count": null,
   "id": "ab2b4312",
   "metadata": {},
   "outputs": [],
   "source": []
  }
 ],
 "metadata": {
  "kernelspec": {
   "display_name": "Python 3",
   "language": "python",
   "name": "python3"
  },
  "language_info": {
   "codemirror_mode": {
    "name": "ipython",
    "version": 3
   },
   "file_extension": ".py",
   "mimetype": "text/x-python",
   "name": "python",
   "nbconvert_exporter": "python",
   "pygments_lexer": "ipython3",
   "version": "3.8.10"
  }
 },
 "nbformat": 4,
 "nbformat_minor": 5
}
