{
 "cells": [
  {
   "cell_type": "markdown",
   "metadata": {},
   "source": []
  },
  {
   "cell_type": "code",
   "execution_count": 68,
   "metadata": {},
   "outputs": [
    {
     "data": {
      "text/plain": [
       "True"
      ]
     },
     "execution_count": 68,
     "metadata": {},
     "output_type": "execute_result"
    }
   ],
   "source": [
    "def is_anagram1(string_a, string_b):\n",
    "    a =  \"\".join(string_a.split())\n",
    "    b =  \"\".join(string_b.split())\n",
    "    \n",
    "    if len(a) != len(b):\n",
    "        return False\n",
    "    else:\n",
    "        new_a=a.lower()\n",
    "        new_b=b.lower()\n",
    "    char_time_a = dict()\n",
    "    char_time_b = dict()\n",
    "    for i in range(len(new_a)):\n",
    "        if new_a[i] not in char_time_a.keys():\n",
    "            char_time_a[new_a[i]]=1\n",
    "        else:\n",
    "            char_time_a[new_a[i]]+=1\n",
    "        if new_b[i] not in char_time_b.keys():\n",
    "            char_time_b[new_b[i]]=1\n",
    "        else:\n",
    "            char_time_b[new_b[i]]+=1\n",
    "    \n",
    "    return char_time_a == char_time_b\n",
    "    \n",
    "    \n",
    "\n",
    "is_anagram1(\"I am lord Voldemort\", \"Tom Marvolo Riddle\")\n",
    "    \n",
    "\n",
    "is_anagram1(\"I am lord Voldemort\", \"Tom Marvolo Riddle\")"
   ]
  },
  {
   "cell_type": "code",
   "execution_count": 38,
   "metadata": {},
   "outputs": [
    {
     "data": {
      "text/plain": [
       "'halb'"
      ]
     },
     "execution_count": 38,
     "metadata": {},
     "output_type": "execute_result"
    }
   ],
   "source": [
    "\n",
    "class Stack():    \n",
    "\n",
    "    def __init__(self):\n",
    "        self.items = []\n",
    "        \n",
    "    def push(self, item):\n",
    "        return self.items.append(item)\n",
    "\n",
    "    def is_empty(self):\n",
    "        return self.items == []\n",
    "\n",
    "    def pop(self):\n",
    "        return self.items.pop()\n",
    "\n",
    "    def peek(self):\n",
    "        return self.items[len(self.items)-1]\n",
    "\n",
    "    def size(self):\n",
    "        return len(self.item)\n",
    "      \n",
    "\n",
    "def string_reversal(string):\n",
    "    stack = Stack()\n",
    "    for letter in string:\n",
    "        stack.push(letter)\n",
    "    output = \"\"\n",
    "    while stack.is_empty() == False:\n",
    "        output += stack.pop()\n",
    "    return output\n",
    "\n",
    "string_reversal(\"blah\")"
   ]
  },
  {
   "cell_type": "code",
   "execution_count": 40,
   "metadata": {},
   "outputs": [
    {
     "data": {
      "text/plain": [
       "True"
      ]
     },
     "execution_count": 40,
     "metadata": {},
     "output_type": "execute_result"
    }
   ],
   "source": [
    "def is_palindrome(string):\n",
    "    pivot2 = len(string)-1\n",
    "    pivot1 = 0\n",
    "    while pivot2 > pivot1:\n",
    "        if string[pivot1] != string[pivot2]:\n",
    "            return False\n",
    "        pivot1 += 1\n",
    "        pivot2 -= 1\n",
    "    return True\n",
    "\n",
    "is_palindrome(\"racecar\")"
   ]
  },
  {
   "cell_type": "markdown",
   "metadata": {},
   "source": [
    "# Problem 1\n",
    "## Anagram check.\n",
    "\n",
    "### Check if two strings are anagrams of each other consider the following:\n",
    "\n",
    "#### Given two strings (string_1 and string_b) we must first validate that these are of equal length and that they use the same characters in the exact same amount of times. \n",
    "\n",
    "#### For example: cars and scar are anagrams but cars and scaar are not; Similarly, scar and sccr are not anagrams of each other."
   ]
  },
  {
   "cell_type": "code",
   "execution_count": 5,
   "metadata": {},
   "outputs": [],
   "source": [
    "class Queue:\n",
    "    def __init__(self):\n",
    "        self.items = []\n",
    "    \n",
    "    def is_empty(self):\n",
    "        return self.items ==[]\n",
    "    \n",
    "    def enqueue(self, item):\n",
    "        self.items.insert(0, item)\n",
    "        \n",
    "    def dequeue(self):\n",
    "        return self.items.pop()\n",
    "    \n",
    "    def size(self):\n",
    "        return len(self.items)\n",
    "    \n",
    "queue = Queue()\n",
    "for letter in string:\n",
    "    queue.enqueue(letter)\n",
    "    \n",
    "while queue.is_empty() != True:\n",
    "    print(queue.dequeue())\n",
    "    \n",
    "def balance_check(s):\n",
    "    "
   ]
  },
  {
   "cell_type": "code",
   "execution_count": 63,
   "metadata": {},
   "outputs": [
    {
     "ename": "SyntaxError",
     "evalue": "invalid syntax (<ipython-input-63-bda94d72529a>, line 35)",
     "output_type": "error",
     "traceback": [
      "\u001b[0;36m  File \u001b[0;32m\"<ipython-input-63-bda94d72529a>\"\u001b[0;36m, line \u001b[0;32m35\u001b[0m\n\u001b[0;31m    for s[pivot1]:\u001b[0m\n\u001b[0m                 ^\u001b[0m\n\u001b[0;31mSyntaxError\u001b[0m\u001b[0;31m:\u001b[0m invalid syntax\n"
     ]
    }
   ],
   "source": [
    "class Stack():    \n",
    "\n",
    "    def __init__(self):\n",
    "        self.items = []\n",
    "        \n",
    "    def push(self, item):\n",
    "        return self.items.append(item)\n",
    "\n",
    "    def is_empty(self):\n",
    "        return self.items == []\n",
    "\n",
    "    def pop(self):\n",
    "        return self.items.pop()\n",
    "\n",
    "    def peek(self):\n",
    "        return self.items[len(self.items)-1]\n",
    "\n",
    "    def size(self):\n",
    "        return len(self.item)\n",
    "      \n",
    "\n",
    "def balance_check(s):\n",
    "    stack = Stack()\n",
    "    if len(s)%2 != 0:\n",
    "        return False\n",
    "    \n",
    "    opening = set(\"({[\")\n",
    "    matches = set([\n",
    "        (\"(\",\")\"),\n",
    "        (\"{\",\"}\"),\n",
    "        (\"[\",\"]\"),\n",
    "    ])\n",
    "    stack = Stack()\n",
    "    for paren in s:\n",
    "        if paren in opening\n",
    "   \n",
    "\n",
    "\n",
    "balance_check(\"(()({{{}}[[[]]]})))\")"
   ]
  },
  {
   "cell_type": "code",
   "execution_count": 20,
   "metadata": {},
   "outputs": [],
   "source": [
    "class Queue2Stacks:\n",
    "    def __init__(self):\n",
    "        #two stacks\n",
    "        self.stack1=[]\n",
    "        self.stack2=[]\n",
    "        \n",
    "    def enqueue(self, element):\n",
    "        #fill out code here\n",
    "#         push all elements into this stack\n",
    "        self.append(element)\n",
    "        \n",
    "    \n",
    "    def dequeue(self):\n",
    "        #fill out code here\n",
    "#         while stack 1 is not empty, pop items out of stack1, push/append into stack2\n",
    "#         while stack 1 is empyty, then pop all elements\n",
    "        while stack1 != empty:\n",
    "            element = stack1.pop()\n",
    "            self.stack2.append(self.stack1.pop())\n",
    "            return stack2.pop()\n",
    "        pass\n",
    "    \n",
    "    def test():\n",
    "#         this should prin: 0,1,2,3,4 note it will print vertically\n",
    "        q=Queue2Stacks()\n",
    "        for i in range(5):\n",
    "            q.enqueue(i)\n",
    "        for i in range(5):\n",
    "            print(q.dequeue())\n",
    "        "
   ]
  },
  {
   "cell_type": "code",
   "execution_count": 22,
   "metadata": {},
   "outputs": [
    {
     "ename": "SyntaxError",
     "evalue": "invalid syntax (<ipython-input-22-da49fdef1cbd>, line 18)",
     "output_type": "error",
     "traceback": [
      "\u001b[0;36m  File \u001b[0;32m\"<ipython-input-22-da49fdef1cbd>\"\u001b[0;36m, line \u001b[0;32m18\u001b[0m\n\u001b[0;31m    print q.dequeue(),\u001b[0m\n\u001b[0m          ^\u001b[0m\n\u001b[0;31mSyntaxError\u001b[0m\u001b[0;31m:\u001b[0m invalid syntax\n"
     ]
    }
   ],
   "source": [
    "class Queue(object):\n",
    "    def __init__(self):\n",
    "        self.instack=[]\n",
    "        self.outstack=[]\n",
    "    def enqueue(self,element):\n",
    "        self.instack.append(element)\n",
    "    def dequeue(self):\n",
    "        if not self.outstack:\n",
    "            while self.instack:\n",
    "                self.outstack.append(self.instack.pop())\n",
    "        return self.outstack.pop()\n",
    "\n",
    "def test():\n",
    "    q = Queue()\n",
    "    for i in range(10):\n",
    "        q.enqueue(i)\n",
    "    for i in xrange(10):\n",
    "        print q.dequeue(),"
   ]
  },
  {
   "cell_type": "code",
   "execution_count": null,
   "metadata": {},
   "outputs": [],
   "source": []
  },
  {
   "cell_type": "code",
   "execution_count": null,
   "metadata": {},
   "outputs": [],
   "source": []
  }
 ],
 "metadata": {
  "kernelspec": {
   "display_name": "Python 3",
   "language": "python",
   "name": "python3"
  },
  "language_info": {
   "codemirror_mode": {
    "name": "ipython",
    "version": 3
   },
   "file_extension": ".py",
   "mimetype": "text/x-python",
   "name": "python",
   "nbconvert_exporter": "python",
   "pygments_lexer": "ipython3",
   "version": "3.8.10"
  }
 },
 "nbformat": 4,
 "nbformat_minor": 5
}
